{
 "cells": [
  {
   "cell_type": "markdown",
   "metadata": {},
   "source": [
    "# Deep neural network with one  hidden layer having 50 neurons ,100 neurons and 500 neurons"
   ]
  },
  {
   "cell_type": "code",
   "execution_count": null,
   "metadata": {},
   "outputs": [],
   "source": []
  },
  {
   "cell_type": "code",
   "execution_count": 22,
   "metadata": {},
   "outputs": [],
   "source": [
    "import os\n",
    "import pandas as pd\n",
    "import numpy as np\n",
    "import matplotlib.pyplot as plt \n",
    "import sklearn\n",
    "from sklearn.preprocessing import StandardScaler\n",
    "from sklearn.metrics import accuracy_score\n",
    "from sklearn.metrics import confusion_matrix\n",
    "from sklearn.pipeline import Pipeline\n",
    "\n",
    "from sklearn.model_selection import train_test_split\n",
    "from xgboost import XGBClassifier\n",
    "\n",
    "from sklearn.feature_selection import VarianceThreshold\n",
    "from sklearn.feature_selection import SelectFromModel\n",
    "\n",
    "import lightgbm as lgbm\n",
    "from sklearn.linear_model import LogisticRegression\n",
    "\n",
    "from sklearn.tree import DecisionTreeClassifier\n",
    "from sklearn.ensemble import RandomForestClassifier\n",
    "from sklearn.svm import SVC"
   ]
  },
  {
   "cell_type": "code",
   "execution_count": 23,
   "metadata": {},
   "outputs": [],
   "source": [
    "df=pd.read_excel('CMRfullDataset.xlsx')\n",
    "#df_t=pd.read_csv('test_data.csv')\n",
    "#print(df_t.head())\n",
    "df.head()\n",
    "df_train = df.drop(['MBID of the recording', 'Name','Artist','Release+Volume','Lead Instrument Code','Raaga'], axis = 1)"
   ]
  },
  {
   "cell_type": "code",
   "execution_count": 24,
   "metadata": {},
   "outputs": [
    {
     "name": "stdout",
     "output_type": "stream",
     "text": [
      "(176, 7)\n",
      "(176,)\n"
     ]
    }
   ],
   "source": [
    "X=df_train.drop('Taala',axis=1).values\n",
    "y=df_train['Taala'].values\n",
    "print(X.shape)\n",
    "print(y.shape)\n",
    "#X_test=df_t.drop('label',axis=1).values\n",
    "#y_test=df_t['label'].values\n"
   ]
  },
  {
   "cell_type": "code",
   "execution_count": 25,
   "metadata": {},
   "outputs": [],
   "source": [
    "X_train, X_test, y_train, y_test = train_test_split(X, y, stratify=y,random_state=42)"
   ]
  },
  {
   "cell_type": "code",
   "execution_count": 26,
   "metadata": {},
   "outputs": [],
   "source": [
    "import keras\n",
    "from keras.models import Sequential\n",
    "from keras.utils import to_categorical\n",
    "from keras.layers import Dense,Dropout,Input\n",
    "from keras.callbacks import ReduceLROnPlateau,EarlyStopping\n",
    "from keras.models import Model\n",
    "from keras.activations import relu\n",
    "from keras.callbacks import History \n",
    "from keras.utils.vis_utils import plot_model\n",
    "from keras.optimizers import Adam"
   ]
  },
  {
   "cell_type": "code",
   "execution_count": 27,
   "metadata": {},
   "outputs": [
    {
     "data": {
      "text/plain": [
       "array([[1, 0, 0, 0, 0, 0, 0, 0, 0, 0],\n",
       "       [1, 0, 0, 0, 0, 0, 0, 0, 0, 0],\n",
       "       [0, 1, 0, 0, 0, 0, 0, 0, 0, 0],\n",
       "       [1, 0, 0, 0, 0, 0, 0, 0, 0, 0],\n",
       "       [1, 0, 0, 0, 0, 0, 0, 0, 0, 0]])"
      ]
     },
     "execution_count": 27,
     "metadata": {},
     "output_type": "execute_result"
    }
   ],
   "source": [
    "sc=StandardScaler()\n",
    "X_train=sc.fit_transform(X_train)\n",
    "X_test=sc.fit_transform(X_test)\n",
    "input_shape=X_train.shape[1]\n",
    "y_train_nn=to_categorical(y_train,10,'int')\n",
    "y_train_nn[:5]"
   ]
  },
  {
   "cell_type": "code",
   "execution_count": 28,
   "metadata": {},
   "outputs": [],
   "source": [
    "hist = History()"
   ]
  },
  {
   "cell_type": "markdown",
   "metadata": {},
   "source": [
    "# 1 hidden layer with 50 neurons relu activation"
   ]
  },
  {
   "cell_type": "code",
   "execution_count": 29,
   "metadata": {},
   "outputs": [],
   "source": [
    "inp=Input(shape=(input_shape,))\n",
    "model = Dense(50,activation='relu')(inp)\n",
    "model = Dropout(0.3)(model)\n",
    "\n",
    "model = Dense(10,activation='softmax')(model)\n",
    "\n",
    "model = Model(inputs=inp,outputs=model)\n",
    "model.compile(optimizer='adam', \n",
    "              loss='categorical_crossentropy', \n",
    "              metrics=['accuracy'])\n",
    "lr=ReduceLROnPlateau(monitor='val_loss',factor=0.5,patience=3,verbose=1)\n",
    "es=EarlyStopping(monitor='val_loss',patience=20,verbose=1)\n"
   ]
  },
  {
   "cell_type": "code",
   "execution_count": 9,
   "metadata": {},
   "outputs": [
    {
     "name": "stdout",
     "output_type": "stream",
     "text": [
      "Epoch 1/20\n",
      "3/3 [==============================] - 0s 118ms/step - loss: 2.2714 - accuracy: 0.0978 - val_loss: 2.3782 - val_accuracy: 0.0500\n",
      "Epoch 2/20\n",
      "3/3 [==============================] - 0s 11ms/step - loss: 2.2058 - accuracy: 0.0761 - val_loss: 2.3371 - val_accuracy: 0.0500\n",
      "Epoch 3/20\n",
      "3/3 [==============================] - 0s 15ms/step - loss: 2.2045 - accuracy: 0.1413 - val_loss: 2.2984 - val_accuracy: 0.2250\n",
      "Epoch 4/20\n",
      "3/3 [==============================] - 0s 15ms/step - loss: 2.1718 - accuracy: 0.1957 - val_loss: 2.2633 - val_accuracy: 0.2000\n",
      "Epoch 5/20\n",
      "3/3 [==============================] - 0s 14ms/step - loss: 2.0924 - accuracy: 0.2500 - val_loss: 2.2296 - val_accuracy: 0.2500\n",
      "Epoch 6/20\n",
      "3/3 [==============================] - 0s 12ms/step - loss: 2.0028 - accuracy: 0.4022 - val_loss: 2.1959 - val_accuracy: 0.2750\n",
      "Epoch 7/20\n",
      "3/3 [==============================] - 0s 14ms/step - loss: 1.9708 - accuracy: 0.3370 - val_loss: 2.1658 - val_accuracy: 0.2750\n",
      "Epoch 8/20\n",
      "3/3 [==============================] - 0s 12ms/step - loss: 1.9461 - accuracy: 0.4130 - val_loss: 2.1369 - val_accuracy: 0.2750\n",
      "Epoch 9/20\n",
      "3/3 [==============================] - 0s 11ms/step - loss: 1.8962 - accuracy: 0.4565 - val_loss: 2.1095 - val_accuracy: 0.3000\n",
      "Epoch 10/20\n",
      "3/3 [==============================] - 0s 14ms/step - loss: 1.8520 - accuracy: 0.4783 - val_loss: 2.0818 - val_accuracy: 0.3250\n",
      "Epoch 11/20\n",
      "3/3 [==============================] - 0s 22ms/step - loss: 1.8498 - accuracy: 0.4565 - val_loss: 2.0572 - val_accuracy: 0.3250\n",
      "Epoch 12/20\n",
      "3/3 [==============================] - 0s 14ms/step - loss: 1.7892 - accuracy: 0.4891 - val_loss: 2.0375 - val_accuracy: 0.3250\n",
      "Epoch 13/20\n",
      "3/3 [==============================] - 0s 15ms/step - loss: 1.6974 - accuracy: 0.5543 - val_loss: 2.0172 - val_accuracy: 0.3750\n",
      "Epoch 14/20\n",
      "3/3 [==============================] - 0s 13ms/step - loss: 1.6968 - accuracy: 0.5217 - val_loss: 1.9959 - val_accuracy: 0.3750\n",
      "Epoch 15/20\n",
      "3/3 [==============================] - 0s 14ms/step - loss: 1.6596 - accuracy: 0.5326 - val_loss: 1.9718 - val_accuracy: 0.3750\n",
      "Epoch 16/20\n",
      "3/3 [==============================] - 0s 13ms/step - loss: 1.6059 - accuracy: 0.5543 - val_loss: 1.9490 - val_accuracy: 0.3750\n",
      "Epoch 17/20\n",
      "3/3 [==============================] - 0s 13ms/step - loss: 1.6087 - accuracy: 0.5326 - val_loss: 1.9260 - val_accuracy: 0.3750\n",
      "Epoch 18/20\n",
      "3/3 [==============================] - 0s 13ms/step - loss: 1.5904 - accuracy: 0.5652 - val_loss: 1.9030 - val_accuracy: 0.3750\n",
      "Epoch 19/20\n",
      "3/3 [==============================] - 0s 13ms/step - loss: 1.5371 - accuracy: 0.5000 - val_loss: 1.8817 - val_accuracy: 0.3750\n",
      "Epoch 20/20\n",
      "3/3 [==============================] - 0s 14ms/step - loss: 1.4906 - accuracy: 0.5761 - val_loss: 1.8610 - val_accuracy: 0.3750\n"
     ]
    },
    {
     "data": {
      "text/plain": [
       "<tensorflow.python.keras.callbacks.History at 0x2d42b1b00d0>"
      ]
     },
     "execution_count": 9,
     "metadata": {},
     "output_type": "execute_result"
    }
   ],
   "source": [
    "model.fit(X_train, y_train_nn, epochs = 20, validation_split = .30, callbacks = [hist,lr,es])"
   ]
  },
  {
   "cell_type": "code",
   "execution_count": 10,
   "metadata": {},
   "outputs": [
    {
     "data": {
      "image/png": "[encoded data removed]",
      "text/plain": [
       "<Figure size 432x288 with 1 Axes>"
      ]
     },
     "metadata": {
      "needs_background": "light"
     },
     "output_type": "display_data"
    }
   ],
   "source": [
    "plt.plot(hist.history['accuracy'], color = 'red')\n",
    "plt.plot(hist.history['val_accuracy'], color = 'blue')\n",
    "plt.xlabel('Epochs')\n",
    "plt.ylabel('Accuracy')\n",
    "plt.show()"
   ]
  },
  {
   "cell_type": "markdown",
   "metadata": {},
   "source": [
    "# 1 hidden layer with 100 neurons relu activation"
   ]
  },
  {
   "cell_type": "code",
   "execution_count": 12,
   "metadata": {},
   "outputs": [],
   "source": [
    "inp=Input(shape=(input_shape,))\n",
    "model = Dense(100,activation='relu')(inp)\n",
    "model = Dropout(0.3)(model)\n",
    "\n",
    "model = Dense(10,activation='softmax')(model)\n",
    "\n",
    "model = Model(inputs=inp,outputs=model)\n",
    "model.compile(optimizer='adam', \n",
    "              loss='categorical_crossentropy', \n",
    "              metrics=['accuracy'])\n",
    "lr=ReduceLROnPlateau(monitor='val_loss',factor=0.5,patience=3,verbose=1)\n",
    "es=EarlyStopping(monitor='val_loss',patience=20,verbose=1)"
   ]
  },
  {
   "cell_type": "code",
   "execution_count": 13,
   "metadata": {},
   "outputs": [
    {
     "name": "stdout",
     "output_type": "stream",
     "text": [
      "Epoch 1/20\n",
      "3/3 [==============================] - 0s 88ms/step - loss: 2.3102 - accuracy: 0.1630 - val_loss: 2.2458 - val_accuracy: 0.3000\n",
      "Epoch 2/20\n",
      "3/3 [==============================] - 0s 11ms/step - loss: 2.1843 - accuracy: 0.2174 - val_loss: 2.1761 - val_accuracy: 0.3500\n",
      "Epoch 3/20\n",
      "3/3 [==============================] - 0s 13ms/step - loss: 2.0960 - accuracy: 0.3587 - val_loss: 2.1146 - val_accuracy: 0.4750\n",
      "Epoch 4/20\n",
      "3/3 [==============================] - 0s 16ms/step - loss: 2.0536 - accuracy: 0.3261 - val_loss: 2.0564 - val_accuracy: 0.4750\n",
      "Epoch 5/20\n",
      "3/3 [==============================] - 0s 16ms/step - loss: 1.9579 - accuracy: 0.4239 - val_loss: 2.0032 - val_accuracy: 0.4750\n",
      "Epoch 6/20\n",
      "3/3 [==============================] - 0s 14ms/step - loss: 1.8569 - accuracy: 0.5000 - val_loss: 1.9565 - val_accuracy: 0.4500\n",
      "Epoch 7/20\n",
      "3/3 [==============================] - 0s 17ms/step - loss: 1.8443 - accuracy: 0.4565 - val_loss: 1.9147 - val_accuracy: 0.4500\n",
      "Epoch 8/20\n",
      "3/3 [==============================] - 0s 14ms/step - loss: 1.7457 - accuracy: 0.5000 - val_loss: 1.8776 - val_accuracy: 0.4500\n",
      "Epoch 9/20\n",
      "3/3 [==============================] - 0s 15ms/step - loss: 1.6820 - accuracy: 0.5326 - val_loss: 1.8417 - val_accuracy: 0.4500\n",
      "Epoch 10/20\n",
      "3/3 [==============================] - 0s 16ms/step - loss: 1.6128 - accuracy: 0.5435 - val_loss: 1.8084 - val_accuracy: 0.4750\n",
      "Epoch 11/20\n",
      "3/3 [==============================] - 0s 16ms/step - loss: 1.5801 - accuracy: 0.5109 - val_loss: 1.7758 - val_accuracy: 0.5250\n",
      "Epoch 12/20\n",
      "3/3 [==============================] - 0s 10ms/step - loss: 1.5029 - accuracy: 0.5435 - val_loss: 1.7447 - val_accuracy: 0.5750\n",
      "Epoch 13/20\n",
      "3/3 [==============================] - 0s 16ms/step - loss: 1.4495 - accuracy: 0.5761 - val_loss: 1.7119 - val_accuracy: 0.5500\n",
      "Epoch 14/20\n",
      "3/3 [==============================] - 0s 16ms/step - loss: 1.4049 - accuracy: 0.6630 - val_loss: 1.6787 - val_accuracy: 0.5750\n",
      "Epoch 15/20\n",
      "3/3 [==============================] - 0s 13ms/step - loss: 1.3528 - accuracy: 0.6739 - val_loss: 1.6457 - val_accuracy: 0.6250\n",
      "Epoch 16/20\n",
      "3/3 [==============================] - 0s 15ms/step - loss: 1.3128 - accuracy: 0.6848 - val_loss: 1.6122 - val_accuracy: 0.6500\n",
      "Epoch 17/20\n",
      "3/3 [==============================] - 0s 16ms/step - loss: 1.3172 - accuracy: 0.6739 - val_loss: 1.5774 - val_accuracy: 0.6500\n",
      "Epoch 18/20\n",
      "3/3 [==============================] - 0s 13ms/step - loss: 1.2125 - accuracy: 0.6957 - val_loss: 1.5438 - val_accuracy: 0.6750\n",
      "Epoch 19/20\n",
      "3/3 [==============================] - 0s 14ms/step - loss: 1.2020 - accuracy: 0.7174 - val_loss: 1.5111 - val_accuracy: 0.6750\n",
      "Epoch 20/20\n",
      "3/3 [==============================] - ETA: 0s - loss: 1.3542 - accuracy: 0.71 - 0s 14ms/step - loss: 1.2023 - accuracy: 0.7065 - val_loss: 1.4760 - val_accuracy: 0.6250\n"
     ]
    },
    {
     "data": {
      "text/plain": [
       "<tensorflow.python.keras.callbacks.History at 0x2d42b1b00d0>"
      ]
     },
     "execution_count": 13,
     "metadata": {},
     "output_type": "execute_result"
    }
   ],
   "source": [
    "model.fit(X_train, y_train_nn, epochs = 20, validation_split = .30, callbacks = [hist,lr,es])"
   ]
  },
  {
   "cell_type": "code",
   "execution_count": 14,
   "metadata": {},
   "outputs": [
    {
     "data": {
      "image/png": "[encoded data removed]",
      "text/plain": [
       "<Figure size 432x288 with 1 Axes>"
      ]
     },
     "metadata": {
      "needs_background": "light"
     },
     "output_type": "display_data"
    }
   ],
   "source": [
    "plt.plot(hist.history['accuracy'], color = 'red')\n",
    "plt.plot(hist.history['val_accuracy'], color = 'blue')\n",
    "plt.xlabel('Epochs')\n",
    "plt.ylabel('Accuracy')\n",
    "plt.show()"
   ]
  },
  {
   "cell_type": "markdown",
   "metadata": {},
   "source": [
    "# 1 hidden layer with 500 neurons relu activation"
   ]
  },
  {
   "cell_type": "code",
   "execution_count": 15,
   "metadata": {},
   "outputs": [],
   "source": [
    "inp=Input(shape=(input_shape,))\n",
    "model = Dense(500,activation='relu')(inp)\n",
    "model = Dropout(0.3)(model)\n",
    "\n",
    "model = Dense(10,activation='softmax')(model)\n",
    "\n",
    "model = Model(inputs=inp,outputs=model)\n",
    "model.compile(optimizer='adam', \n",
    "              loss='categorical_crossentropy', \n",
    "              metrics=['accuracy'])\n",
    "lr=ReduceLROnPlateau(monitor='val_loss',factor=0.5,patience=3,verbose=1)\n",
    "es=EarlyStopping(monitor='val_loss',patience=20,verbose=1)"
   ]
  },
  {
   "cell_type": "code",
   "execution_count": 16,
   "metadata": {},
   "outputs": [
    {
     "name": "stdout",
     "output_type": "stream",
     "text": [
      "Epoch 1/20\n",
      "3/3 [==============================] - 0s 93ms/step - loss: 2.1632 - accuracy: 0.3043 - val_loss: 2.0488 - val_accuracy: 0.4000\n",
      "Epoch 2/20\n",
      "3/3 [==============================] - 0s 14ms/step - loss: 1.9630 - accuracy: 0.5652 - val_loss: 1.9439 - val_accuracy: 0.4500\n",
      "Epoch 3/20\n",
      "3/3 [==============================] - 0s 15ms/step - loss: 1.7920 - accuracy: 0.6304 - val_loss: 1.8631 - val_accuracy: 0.5250\n",
      "Epoch 4/20\n",
      "3/3 [==============================] - 0s 14ms/step - loss: 1.6272 - accuracy: 0.7065 - val_loss: 1.7974 - val_accuracy: 0.5250\n",
      "Epoch 5/20\n",
      "3/3 [==============================] - 0s 13ms/step - loss: 1.4974 - accuracy: 0.7174 - val_loss: 1.7499 - val_accuracy: 0.5000\n",
      "Epoch 6/20\n",
      "3/3 [==============================] - 0s 14ms/step - loss: 1.3805 - accuracy: 0.7065 - val_loss: 1.6989 - val_accuracy: 0.5000\n",
      "Epoch 7/20\n",
      "3/3 [==============================] - 0s 16ms/step - loss: 1.2862 - accuracy: 0.7500 - val_loss: 1.6516 - val_accuracy: 0.5500\n",
      "Epoch 8/20\n",
      "3/3 [==============================] - 0s 16ms/step - loss: 1.1976 - accuracy: 0.7283 - val_loss: 1.5975 - val_accuracy: 0.5750\n",
      "Epoch 9/20\n",
      "3/3 [==============================] - 0s 13ms/step - loss: 1.0964 - accuracy: 0.7935 - val_loss: 1.5427 - val_accuracy: 0.6500\n",
      "Epoch 10/20\n",
      "3/3 [==============================] - 0s 15ms/step - loss: 1.0277 - accuracy: 0.8261 - val_loss: 1.4836 - val_accuracy: 0.6500\n",
      "Epoch 11/20\n",
      "3/3 [==============================] - 0s 14ms/step - loss: 0.9395 - accuracy: 0.8043 - val_loss: 1.4239 - val_accuracy: 0.6750\n",
      "Epoch 12/20\n",
      "3/3 [==============================] - 0s 14ms/step - loss: 0.8894 - accuracy: 0.8261 - val_loss: 1.3657 - val_accuracy: 0.6750\n",
      "Epoch 13/20\n",
      "3/3 [==============================] - 0s 16ms/step - loss: 0.8410 - accuracy: 0.8370 - val_loss: 1.3049 - val_accuracy: 0.6750\n",
      "Epoch 14/20\n",
      "3/3 [==============================] - 0s 16ms/step - loss: 0.7949 - accuracy: 0.8478 - val_loss: 1.2476 - val_accuracy: 0.6750\n",
      "Epoch 15/20\n",
      "3/3 [==============================] - 0s 16ms/step - loss: 0.7414 - accuracy: 0.8587 - val_loss: 1.1888 - val_accuracy: 0.6750\n",
      "Epoch 16/20\n",
      "3/3 [==============================] - 0s 14ms/step - loss: 0.6960 - accuracy: 0.8587 - val_loss: 1.1302 - val_accuracy: 0.6750\n",
      "Epoch 17/20\n",
      "3/3 [==============================] - 0s 13ms/step - loss: 0.6499 - accuracy: 0.8478 - val_loss: 1.0787 - val_accuracy: 0.6750\n",
      "Epoch 18/20\n",
      "3/3 [==============================] - 0s 13ms/step - loss: 0.6163 - accuracy: 0.8696 - val_loss: 1.0271 - val_accuracy: 0.6750\n",
      "Epoch 19/20\n",
      "3/3 [==============================] - 0s 16ms/step - loss: 0.5847 - accuracy: 0.8696 - val_loss: 0.9806 - val_accuracy: 0.6750\n",
      "Epoch 20/20\n",
      "3/3 [==============================] - 0s 17ms/step - loss: 0.5540 - accuracy: 0.8804 - val_loss: 0.9380 - val_accuracy: 0.6750\n"
     ]
    },
    {
     "data": {
      "text/plain": [
       "<tensorflow.python.keras.callbacks.History at 0x2d42b1b00d0>"
      ]
     },
     "execution_count": 16,
     "metadata": {},
     "output_type": "execute_result"
    }
   ],
   "source": [
    "model.fit(X_train, y_train_nn, epochs = 20, validation_split = .30, callbacks = [hist,lr,es])"
   ]
  },
  {
   "cell_type": "code",
   "execution_count": 17,
   "metadata": {},
   "outputs": [
    {
     "data": {
      "image/png": "[encoded data removed]",
      "text/plain": [
       "<Figure size 432x288 with 1 Axes>"
      ]
     },
     "metadata": {
      "needs_background": "light"
     },
     "output_type": "display_data"
    }
   ],
   "source": [
    "plt.plot(hist.history['accuracy'], color = 'red')\n",
    "plt.plot(hist.history['val_accuracy'], color = 'blue')\n",
    "plt.xlabel('Epochs')\n",
    "plt.ylabel('Accuracy')\n",
    "plt.show()"
   ]
  },
  {
   "cell_type": "markdown",
   "metadata": {},
   "source": [
    "# one hidden layer with 1000 neurons and Relu activation"
   ]
  },
  {
   "cell_type": "code",
   "execution_count": 19,
   "metadata": {},
   "outputs": [],
   "source": [
    "inp=Input(shape=(input_shape,))\n",
    "model = Dense(1000,activation='relu')(inp)\n",
    "model = Dropout(0.3)(model)\n",
    "\n",
    "model = Dense(10,activation='softmax')(model)\n",
    "\n",
    "model = Model(inputs=inp,outputs=model)\n",
    "model.compile(optimizer='adam', \n",
    "              loss='categorical_crossentropy', \n",
    "              metrics=['accuracy'])\n",
    "lr=ReduceLROnPlateau(monitor='val_loss',factor=0.5,patience=3,verbose=1)\n",
    "es=EarlyStopping(monitor='val_loss',patience=20,verbose=1)"
   ]
  },
  {
   "cell_type": "code",
   "execution_count": 20,
   "metadata": {},
   "outputs": [
    {
     "name": "stdout",
     "output_type": "stream",
     "text": [
      "Epoch 1/20\n",
      "3/3 [==============================] - 0s 111ms/step - loss: 2.1612 - accuracy: 0.3587 - val_loss: 2.0492 - val_accuracy: 0.5500\n",
      "Epoch 2/20\n",
      "3/3 [==============================] - 0s 13ms/step - loss: 1.8857 - accuracy: 0.6087 - val_loss: 1.8936 - val_accuracy: 0.5750\n",
      "Epoch 3/20\n",
      "3/3 [==============================] - 0s 20ms/step - loss: 1.6438 - accuracy: 0.6739 - val_loss: 1.7821 - val_accuracy: 0.6000\n",
      "Epoch 4/20\n",
      "3/3 [==============================] - 0s 22ms/step - loss: 1.4310 - accuracy: 0.6848 - val_loss: 1.6987 - val_accuracy: 0.6250\n",
      "Epoch 5/20\n",
      "3/3 [==============================] - 0s 20ms/step - loss: 1.3024 - accuracy: 0.6522 - val_loss: 1.6252 - val_accuracy: 0.6250\n",
      "Epoch 6/20\n",
      "3/3 [==============================] - 0s 16ms/step - loss: 1.1640 - accuracy: 0.6630 - val_loss: 1.5625 - val_accuracy: 0.6000\n",
      "Epoch 7/20\n",
      "3/3 [==============================] - 0s 13ms/step - loss: 1.0600 - accuracy: 0.6848 - val_loss: 1.4902 - val_accuracy: 0.5750\n",
      "Epoch 8/20\n",
      "3/3 [==============================] - 0s 16ms/step - loss: 0.9561 - accuracy: 0.7391 - val_loss: 1.4192 - val_accuracy: 0.6000\n",
      "Epoch 9/20\n",
      "3/3 [==============================] - ETA: 0s - loss: 0.9465 - accuracy: 0.75 - 0s 16ms/step - loss: 0.8695 - accuracy: 0.7935 - val_loss: 1.3377 - val_accuracy: 0.6750\n",
      "Epoch 10/20\n",
      "3/3 [==============================] - 0s 15ms/step - loss: 0.7974 - accuracy: 0.7935 - val_loss: 1.2505 - val_accuracy: 0.6750\n",
      "Epoch 11/20\n",
      "3/3 [==============================] - 0s 16ms/step - loss: 0.7293 - accuracy: 0.8478 - val_loss: 1.1730 - val_accuracy: 0.6750\n",
      "Epoch 12/20\n",
      "3/3 [==============================] - 0s 22ms/step - loss: 0.6826 - accuracy: 0.8478 - val_loss: 1.0894 - val_accuracy: 0.6750\n",
      "Epoch 13/20\n",
      "3/3 [==============================] - 0s 16ms/step - loss: 0.6285 - accuracy: 0.8696 - val_loss: 1.0151 - val_accuracy: 0.6750\n",
      "Epoch 14/20\n",
      "3/3 [==============================] - 0s 17ms/step - loss: 0.5691 - accuracy: 0.8804 - val_loss: 0.9421 - val_accuracy: 0.6750\n",
      "Epoch 15/20\n",
      "3/3 [==============================] - 0s 20ms/step - loss: 0.5327 - accuracy: 0.8804 - val_loss: 0.8737 - val_accuracy: 0.6750\n",
      "Epoch 16/20\n",
      "3/3 [==============================] - 0s 19ms/step - loss: 0.4972 - accuracy: 0.8913 - val_loss: 0.8165 - val_accuracy: 0.6750\n",
      "Epoch 17/20\n",
      "3/3 [==============================] - 0s 21ms/step - loss: 0.4685 - accuracy: 0.8913 - val_loss: 0.7601 - val_accuracy: 0.6750\n",
      "Epoch 18/20\n",
      "3/3 [==============================] - 0s 20ms/step - loss: 0.4322 - accuracy: 0.9022 - val_loss: 0.7130 - val_accuracy: 0.7000\n",
      "Epoch 19/20\n",
      "3/3 [==============================] - 0s 17ms/step - loss: 0.3990 - accuracy: 0.8804 - val_loss: 0.6766 - val_accuracy: 0.7000\n",
      "Epoch 20/20\n",
      "3/3 [==============================] - 0s 16ms/step - loss: 0.3699 - accuracy: 0.9239 - val_loss: 0.6450 - val_accuracy: 0.7000\n"
     ]
    },
    {
     "data": {
      "text/plain": [
       "<tensorflow.python.keras.callbacks.History at 0x2d42b1b00d0>"
      ]
     },
     "execution_count": 20,
     "metadata": {},
     "output_type": "execute_result"
    }
   ],
   "source": [
    "model.fit(X_train, y_train_nn, epochs = 20, validation_split = .30, callbacks = [hist,lr,es])"
   ]
  },
  {
   "cell_type": "code",
   "execution_count": 21,
   "metadata": {},
   "outputs": [
    {
     "data": {
      "image/png": "[encoded data removed]",
      "text/plain": [
       "<Figure size 432x288 with 1 Axes>"
      ]
     },
     "metadata": {
      "needs_background": "light"
     },
     "output_type": "display_data"
    }
   ],
   "source": [
    "plt.plot(hist.history['accuracy'], color = 'red')\n",
    "plt.plot(hist.history['val_accuracy'], color = 'blue')\n",
    "plt.xlabel('Epochs')\n",
    "plt.ylabel('Accuracy')\n",
    "plt.show()"
   ]
  },
  {
   "cell_type": "code",
   "execution_count": null,
   "metadata": {},
   "outputs": [],
   "source": []
  }
 ],
 "metadata": {
  "kernelspec": {
   "display_name": "Python 3",
   "language": "python",
   "name": "python3"
  },
  "language_info": {
   "codemirror_mode": {
    "name": "ipython",
    "version": 3
   },
   "file_extension": ".py",
   "mimetype": "text/x-python",
   "name": "python",
   "nbconvert_exporter": "python",
   "pygments_lexer": "ipython3",
   "version": "3.8.3"
  }
 },
 "nbformat": 4,
 "nbformat_minor": 4
}
