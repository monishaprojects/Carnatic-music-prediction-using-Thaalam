{
 "cells": [
  {
   "cell_type": "markdown",
   "metadata": {
    "collapsed": true,
    "pycharm": {
     "name": "#%% md\n"
    }
   },
   "source": [
    "# Deep neural networks"
   ]
  },
  {
   "cell_type": "code",
   "execution_count": 45,
   "metadata": {
    "pycharm": {
     "is_executing": false,
     "name": "#%%\n"
    }
   },
   "outputs": [],
   "source": [
    "import os\n",
    "import pandas as pd\n",
    "import numpy as np\n",
    "import matplotlib.pyplot as plt \n",
    "import sklearn\n",
    "from sklearn.preprocessing import StandardScaler\n",
    "from sklearn.metrics import accuracy_score\n",
    "from sklearn.metrics import confusion_matrix\n",
    "from sklearn.pipeline import Pipeline\n",
    "\n",
    "from sklearn.model_selection import train_test_split\n",
    "from xgboost import XGBClassifier\n",
    "\n",
    "from sklearn.feature_selection import VarianceThreshold\n",
    "from sklearn.feature_selection import SelectFromModel\n",
    "\n",
    "import lightgbm as lgbm\n",
    "from sklearn.linear_model import LogisticRegression\n",
    "\n",
    "from sklearn.tree import DecisionTreeClassifier\n",
    "from sklearn.ensemble import RandomForestClassifier\n",
    "from sklearn.svm import SVC"
   ]
  },
  {
   "cell_type": "code",
   "execution_count": 46,
   "metadata": {
    "pycharm": {
     "is_executing": false,
     "name": "#%%\n"
    }
   },
   "outputs": [
    {
     "data": {
      "text/plain": [
       "'C:\\\\Users\\\\MY BOOK\\\\Downloads\\\\Carnatic music Rhythm classification'"
      ]
     },
     "execution_count": 46,
     "metadata": {},
     "output_type": "execute_result"
    }
   ],
   "source": [
    "os.getcwd()\n"
   ]
  },
  {
   "cell_type": "code",
   "execution_count": 47,
   "metadata": {
    "pycharm": {
     "is_executing": false,
     "name": "#%%\n"
    }
   },
   "outputs": [],
   "source": [
    "df=pd.read_excel('CMRfullDataset.xlsx')\n",
    "#df_t=pd.read_csv('test_data.csv')\n",
    "#print(df_t.head())\n",
    "df.head()\n",
    "df_train = df.drop(['MBID of the recording', 'Name','Artist','Release+Volume','Lead Instrument Code','Raaga'], axis = 1)"
   ]
  },
  {
   "cell_type": "code",
   "execution_count": 48,
   "metadata": {
    "pycharm": {
     "is_executing": false,
     "name": "#%%\n"
    }
   },
   "outputs": [
    {
     "name": "stdout",
     "output_type": "stream",
     "text": [
      "(176, 7)\n",
      "(176,)\n"
     ]
    }
   ],
   "source": [
    "X=df_train.drop('Taala',axis=1).values\n",
    "y=df_train['Taala'].values\n",
    "print(X.shape)\n",
    "print(y.shape)\n",
    "#X_test=df_t.drop('label',axis=1).values\n",
    "#y_test=df_t['label'].values\n"
   ]
  },
  {
   "cell_type": "code",
   "execution_count": 49,
   "metadata": {
    "pycharm": {
     "name": "#%%\n"
    }
   },
   "outputs": [],
   "source": [
    "X_train, X_test, y_train, y_test = train_test_split(X, y, stratify=y,random_state=42)"
   ]
  },
  {
   "cell_type": "markdown",
   "metadata": {
    "pycharm": {
     "name": "#%% md\n"
    }
   },
   "source": [
    "## Deep Neural Network"
   ]
  },
  {
   "cell_type": "code",
   "execution_count": 50,
   "metadata": {
    "pycharm": {
     "is_executing": false,
     "name": "#%%\n"
    }
   },
   "outputs": [],
   "source": [
    "import keras\n",
    "from keras.models import Sequential\n",
    "from keras.utils import to_categorical\n",
    "from keras.layers import Dense,Dropout,Input\n",
    "from keras.callbacks import ReduceLROnPlateau,EarlyStopping\n",
    "from keras.models import Model\n",
    "from keras.activations import relu\n",
    "from keras.callbacks import History \n",
    "from keras.utils.vis_utils import plot_model\n",
    "from keras.optimizers import Adam"
   ]
  },
  {
   "cell_type": "code",
   "execution_count": 51,
   "metadata": {
    "pycharm": {
     "is_executing": false,
     "name": "#%%\n"
    }
   },
   "outputs": [
    {
     "data": {
      "text/plain": [
       "array([[1, 0, 0, 0, 0, 0, 0, 0, 0, 0],\n",
       "       [1, 0, 0, 0, 0, 0, 0, 0, 0, 0],\n",
       "       [0, 1, 0, 0, 0, 0, 0, 0, 0, 0],\n",
       "       [1, 0, 0, 0, 0, 0, 0, 0, 0, 0],\n",
       "       [1, 0, 0, 0, 0, 0, 0, 0, 0, 0]])"
      ]
     },
     "execution_count": 51,
     "metadata": {},
     "output_type": "execute_result"
    }
   ],
   "source": [
    "sc=StandardScaler()\n",
    "X_train=sc.fit_transform(X_train)\n",
    "X_test=sc.fit_transform(X_test)\n",
    "input_shape=X_train.shape[1]\n",
    "y_train_nn=to_categorical(y_train,10,'int')\n",
    "y_train_nn[:5]"
   ]
  },
  {
   "cell_type": "code",
   "execution_count": 52,
   "metadata": {
    "pycharm": {
     "is_executing": false,
     "name": "#%%\n"
    }
   },
   "outputs": [],
   "source": [
    "hist = History()"
   ]
  },
  {
   "cell_type": "markdown",
   "metadata": {},
   "source": [
    "2 hidden layer with relu activation"
   ]
  },
  {
   "cell_type": "code",
   "execution_count": 53,
   "metadata": {},
   "outputs": [
    {
     "name": "stdout",
     "output_type": "stream",
     "text": [
      "Epoch 1/20\n",
      "7/7 [==============================] - 0s 2ms/step - loss: 2.9611 - accuracy: 0.2955\n",
      "Epoch 2/20\n",
      "7/7 [==============================] - 0s 2ms/step - loss: 2.2546 - accuracy: 0.3258\n",
      "Epoch 3/20\n",
      "7/7 [==============================] - 0s 2ms/step - loss: 1.7765 - accuracy: 0.3485\n",
      "Epoch 4/20\n",
      "7/7 [==============================] - 0s 2ms/step - loss: 1.4078 - accuracy: 0.3864\n",
      "Epoch 5/20\n",
      "7/7 [==============================] - 0s 2ms/step - loss: 1.1186 - accuracy: 0.4621\n",
      "Epoch 6/20\n",
      "7/7 [==============================] - 0s 2ms/step - loss: 0.8269 - accuracy: 0.4621\n",
      "Epoch 7/20\n",
      "7/7 [==============================] - 0s 2ms/step - loss: 0.5982 - accuracy: 0.4773\n",
      "Epoch 8/20\n",
      "7/7 [==============================] - 0s 2ms/step - loss: 0.4036 - accuracy: 0.5227\n",
      "Epoch 9/20\n",
      "7/7 [==============================] - 0s 3ms/step - loss: 0.2579 - accuracy: 0.5303\n",
      "Epoch 10/20\n",
      "7/7 [==============================] - 0s 3ms/step - loss: 0.1597 - accuracy: 0.5606\n",
      "Epoch 11/20\n",
      "7/7 [==============================] - 0s 3ms/step - loss: 0.1143 - accuracy: 0.5682\n",
      "Epoch 12/20\n",
      "7/7 [==============================] - 0s 3ms/step - loss: 0.0917 - accuracy: 0.5682\n",
      "Epoch 13/20\n",
      "7/7 [==============================] - 0s 2ms/step - loss: 0.0783 - accuracy: 0.5682\n",
      "Epoch 14/20\n",
      "7/7 [==============================] - 0s 2ms/step - loss: 0.0673 - accuracy: 0.5682\n",
      "Epoch 15/20\n",
      "7/7 [==============================] - 0s 3ms/step - loss: 0.0559 - accuracy: 0.5682\n",
      "Epoch 16/20\n",
      "7/7 [==============================] - 0s 2ms/step - loss: 0.0467 - accuracy: 0.5682\n",
      "Epoch 17/20\n",
      "7/7 [==============================] - 0s 1ms/step - loss: 0.0407 - accuracy: 0.5682\n",
      "Epoch 18/20\n",
      "7/7 [==============================] - 0s 3ms/step - loss: 0.0358 - accuracy: 0.5682\n",
      "Epoch 19/20\n",
      "7/7 [==============================] - 0s 2ms/step - loss: 0.0315 - accuracy: 0.5682\n",
      "Epoch 20/20\n",
      "7/7 [==============================] - 0s 1ms/step - loss: 0.0274 - accuracy: 0.5682\n"
     ]
    },
    {
     "data": {
      "text/plain": [
       "<tensorflow.python.keras.callbacks.History at 0x22f396d3eb0>"
      ]
     },
     "execution_count": 53,
     "metadata": {},
     "output_type": "execute_result"
    }
   ],
   "source": [
    "model = Sequential()\n",
    "model.add(Dense(50, input_shape=(X_test.shape[1],), activation='relu', kernel_initializer='Orthogonal'))\n",
    "model.add(Dense(50, input_shape=(X_test.shape[1],), activation='relu'))\n",
    "model.add(Dense(1))\n",
    "model.compile(optimizer=Adam(lr=0.001), loss='mean_squared_error',metrics=['accuracy'])\n",
    "model.fit(X_train, y_train, batch_size=20, epochs=20, verbose=1)"
   ]
  },
  {
   "cell_type": "code",
   "execution_count": 54,
   "metadata": {},
   "outputs": [
    {
     "name": "stdout",
     "output_type": "stream",
     "text": [
      "R-Squared: 0.961223\n"
     ]
    },
    {
     "data": {
      "image/png": "[encoded data removed]",
      "text/plain": [
       "<Figure size 432x288 with 1 Axes>"
      ]
     },
     "metadata": {
      "needs_background": "light"
     },
     "output_type": "display_data"
    }
   ],
   "source": [
    "from sklearn.metrics import r2_score\n",
    "y_pred = model.predict(X_test)\n",
    "plt.plot(y_test)\n",
    "plt.plot(y_pred)\n",
    "print('R-Squared: %f'%(r2_score(y_test, y_pred)))"
   ]
  },
  {
   "cell_type": "code",
   "execution_count": null,
   "metadata": {},
   "outputs": [],
   "source": []
  },
  {
   "cell_type": "markdown",
   "metadata": {},
   "source": [
    "4 hidden layer relu activation"
   ]
  },
  {
   "cell_type": "code",
   "execution_count": 55,
   "metadata": {},
   "outputs": [],
   "source": [
    "inp=Input(shape=(input_shape,))\n",
    "model = Dense(500,activation='relu')(inp)\n",
    "model = Dropout(0.3)(model)\n",
    "model = Dense(8000,activation='relu')(model)\n",
    "model = Dropout(0.2)(model)\n",
    "\n",
    "model = Dense(1000,activation='relu')(model)\n",
    "model = Dense(500,activation='relu')(model)\n",
    "model = Dense(10,activation='softmax')(model)\n",
    "\n",
    "model = Model(inputs=inp,outputs=model)\n",
    "model.compile(optimizer='adam', \n",
    "              loss='categorical_crossentropy', \n",
    "              metrics=['accuracy'])\n",
    "lr=ReduceLROnPlateau(monitor='val_loss',factor=0.5,patience=3,verbose=1)\n",
    "es=EarlyStopping(monitor='val_loss',patience=20,verbose=1)\n",
    "#plot_model(model)"
   ]
  },
  {
   "cell_type": "code",
   "execution_count": 56,
   "metadata": {},
   "outputs": [
    {
     "name": "stdout",
     "output_type": "stream",
     "text": [
      "Epoch 1/20\n",
      "3/3 [==============================] - 1s 177ms/step - loss: 1.7351 - accuracy: 0.4565 - val_loss: 1.8438 - val_accuracy: 0.6000\n",
      "Epoch 2/20\n",
      "3/3 [==============================] - 0s 88ms/step - loss: 0.8466 - accuracy: 0.7609 - val_loss: 1.5592 - val_accuracy: 0.5500\n",
      "Epoch 3/20\n",
      "3/3 [==============================] - 0s 84ms/step - loss: 0.4908 - accuracy: 0.8152 - val_loss: 0.4037 - val_accuracy: 0.8750\n",
      "Epoch 4/20\n",
      "3/3 [==============================] - 0s 86ms/step - loss: 0.1985 - accuracy: 0.9130 - val_loss: 1.1642 - val_accuracy: 0.6250\n",
      "Epoch 5/20\n",
      "3/3 [==============================] - 0s 82ms/step - loss: 0.1563 - accuracy: 0.9130 - val_loss: 0.3468 - val_accuracy: 0.8750\n",
      "Epoch 6/20\n",
      "3/3 [==============================] - 0s 88ms/step - loss: 0.2097 - accuracy: 0.9457 - val_loss: 0.3471 - val_accuracy: 0.8000\n",
      "Epoch 7/20\n",
      "3/3 [==============================] - 0s 83ms/step - loss: 0.1375 - accuracy: 0.9239 - val_loss: 2.7767 - val_accuracy: 0.7000\n",
      "Epoch 8/20\n",
      "3/3 [==============================] - ETA: 0s - loss: 0.1228 - accuracy: 0.9457\n",
      "Epoch 00008: ReduceLROnPlateau reducing learning rate to 0.0005000000237487257.\n",
      "3/3 [==============================] - 0s 81ms/step - loss: 0.1228 - accuracy: 0.9457 - val_loss: 0.8781 - val_accuracy: 0.9000\n",
      "Epoch 9/20\n",
      "3/3 [==============================] - 0s 86ms/step - loss: 0.0525 - accuracy: 0.9783 - val_loss: 0.3939 - val_accuracy: 0.9250\n",
      "Epoch 10/20\n",
      "3/3 [==============================] - 0s 83ms/step - loss: 0.0260 - accuracy: 1.0000 - val_loss: 0.1111 - val_accuracy: 0.9500\n",
      "Epoch 11/20\n",
      "3/3 [==============================] - 0s 86ms/step - loss: 0.0269 - accuracy: 1.0000 - val_loss: 0.0846 - val_accuracy: 0.9750\n",
      "Epoch 12/20\n",
      "3/3 [==============================] - 0s 86ms/step - loss: 0.0572 - accuracy: 0.9783 - val_loss: 0.5201 - val_accuracy: 0.9250\n",
      "Epoch 13/20\n",
      "3/3 [==============================] - 0s 90ms/step - loss: 0.0134 - accuracy: 1.0000 - val_loss: 1.0743 - val_accuracy: 0.9250\n",
      "Epoch 14/20\n",
      "3/3 [==============================] - ETA: 0s - loss: 0.0085 - accuracy: 1.0000\n",
      "Epoch 00014: ReduceLROnPlateau reducing learning rate to 0.0002500000118743628.\n",
      "3/3 [==============================] - 0s 98ms/step - loss: 0.0085 - accuracy: 1.0000 - val_loss: 1.6822 - val_accuracy: 0.9000\n",
      "Epoch 15/20\n",
      "3/3 [==============================] - 0s 90ms/step - loss: 0.0165 - accuracy: 1.0000 - val_loss: 1.7838 - val_accuracy: 0.8750\n",
      "Epoch 16/20\n",
      "3/3 [==============================] - 0s 91ms/step - loss: 0.0258 - accuracy: 0.9891 - val_loss: 1.5070 - val_accuracy: 0.9000\n",
      "Epoch 17/20\n",
      "3/3 [==============================] - ETA: 0s - loss: 0.0068 - accuracy: 1.0000\n",
      "Epoch 00017: ReduceLROnPlateau reducing learning rate to 0.0001250000059371814.\n",
      "3/3 [==============================] - 0s 97ms/step - loss: 0.0068 - accuracy: 1.0000 - val_loss: 1.1961 - val_accuracy: 0.9000\n",
      "Epoch 18/20\n",
      "3/3 [==============================] - 0s 93ms/step - loss: 0.0084 - accuracy: 1.0000 - val_loss: 1.1050 - val_accuracy: 0.9000\n",
      "Epoch 19/20\n",
      "3/3 [==============================] - 0s 90ms/step - loss: 0.0096 - accuracy: 1.0000 - val_loss: 1.0405 - val_accuracy: 0.9000\n",
      "Epoch 20/20\n",
      "3/3 [==============================] - ETA: 0s - loss: 0.0106 - accuracy: 1.0000\n",
      "Epoch 00020: ReduceLROnPlateau reducing learning rate to 6.25000029685907e-05.\n",
      "3/3 [==============================] - 0s 92ms/step - loss: 0.0106 - accuracy: 1.0000 - val_loss: 0.9926 - val_accuracy: 0.9000\n"
     ]
    },
    {
     "data": {
      "text/plain": [
       "<tensorflow.python.keras.callbacks.History at 0x22f396411f0>"
      ]
     },
     "execution_count": 56,
     "metadata": {},
     "output_type": "execute_result"
    }
   ],
   "source": [
    "model.fit(X_train, y_train_nn, epochs = 20, validation_split = .30, callbacks = [hist,lr,es])"
   ]
  },
  {
   "cell_type": "code",
   "execution_count": 57,
   "metadata": {},
   "outputs": [
    {
     "data": {
      "image/png": "[encoded data removed]",
      "text/plain": [
       "<Figure size 432x288 with 1 Axes>"
      ]
     },
     "metadata": {
      "needs_background": "light"
     },
     "output_type": "display_data"
    }
   ],
   "source": [
    "plt.plot(hist.history['accuracy'], color = 'red')\n",
    "plt.plot(hist.history['val_accuracy'], color = 'blue')\n",
    "plt.xlabel('Epochs')\n",
    "plt.ylabel('Accuracy')\n",
    "plt.show()"
   ]
  },
  {
   "cell_type": "code",
   "execution_count": null,
   "metadata": {},
   "outputs": [],
   "source": []
  },
  {
   "cell_type": "markdown",
   "metadata": {},
   "source": [
    "6 hidden layer using relu activation"
   ]
  },
  {
   "cell_type": "code",
   "execution_count": 58,
   "metadata": {
    "pycharm": {
     "is_executing": false,
     "name": "#%%\n"
    }
   },
   "outputs": [],
   "source": [
    "inp=Input(shape=(input_shape,))\n",
    "model = Dense(500,activation='relu')(inp)\n",
    "model = Dropout(0.3)(model)\n",
    "model = Dense(8000,activation='relu')(model)\n",
    "model = Dropout(0.2)(model)\n",
    "model = Dense(4000,activation='relu')(model)\n",
    "model = Dropout(0.2)(model)\n",
    "model = Dense(2000,activation='relu')(model)\n",
    "model = Dropout(0.2)(model)\n",
    "model = Dense(1000,activation='relu')(model)\n",
    "model = Dense(500,activation='relu')(model)\n",
    "model = Dense(10,activation='softmax')(model)\n",
    "\n",
    "model = Model(inputs=inp,outputs=model)\n",
    "model.compile(optimizer='adam', \n",
    "              loss='categorical_crossentropy', \n",
    "              metrics=['accuracy'])\n",
    "lr=ReduceLROnPlateau(monitor='val_loss',factor=0.5,patience=3,verbose=1)\n",
    "es=EarlyStopping(monitor='val_loss',patience=20,verbose=1)\n",
    "#plot_model(model)"
   ]
  },
  {
   "cell_type": "code",
   "execution_count": 59,
   "metadata": {
    "pycharm": {
     "is_executing": false,
     "name": "#%%\n"
    }
   },
   "outputs": [
    {
     "name": "stdout",
     "output_type": "stream",
     "text": [
      "Epoch 1/20\n",
      "3/3 [==============================] - 1s 384ms/step - loss: 2.1061 - accuracy: 0.2065 - val_loss: 1.5152 - val_accuracy: 0.3250\n",
      "Epoch 2/20\n",
      "3/3 [==============================] - 1s 277ms/step - loss: 1.3451 - accuracy: 0.4565 - val_loss: 1.2104 - val_accuracy: 0.5000\n",
      "Epoch 3/20\n",
      "3/3 [==============================] - 1s 271ms/step - loss: 0.7380 - accuracy: 0.6087 - val_loss: 0.9973 - val_accuracy: 0.4750\n",
      "Epoch 4/20\n",
      "3/3 [==============================] - 1s 279ms/step - loss: 0.5475 - accuracy: 0.6304 - val_loss: 1.2319 - val_accuracy: 0.6000\n",
      "Epoch 5/20\n",
      "3/3 [==============================] - 1s 271ms/step - loss: 0.8687 - accuracy: 0.6196 - val_loss: 0.8129 - val_accuracy: 0.6250\n",
      "Epoch 6/20\n",
      "3/3 [==============================] - 1s 284ms/step - loss: 0.3934 - accuracy: 0.8261 - val_loss: 1.2239 - val_accuracy: 0.8000\n",
      "Epoch 7/20\n",
      "3/3 [==============================] - 1s 278ms/step - loss: 0.2684 - accuracy: 0.9022 - val_loss: 2.5118 - val_accuracy: 0.8250\n",
      "Epoch 8/20\n",
      "3/3 [==============================] - 1s 309ms/step - loss: 0.1797 - accuracy: 0.9130 - val_loss: 0.3525 - val_accuracy: 0.7750\n",
      "Epoch 9/20\n",
      "3/3 [==============================] - 1s 294ms/step - loss: 0.3313 - accuracy: 0.9022 - val_loss: 0.5358 - val_accuracy: 0.8250\n",
      "Epoch 10/20\n",
      "3/3 [==============================] - 1s 272ms/step - loss: 0.0790 - accuracy: 0.9783 - val_loss: 1.2328 - val_accuracy: 0.8500\n",
      "Epoch 11/20\n",
      "3/3 [==============================] - ETA: 0s - loss: 0.1098 - accuracy: 0.9674\n",
      "Epoch 00011: ReduceLROnPlateau reducing learning rate to 0.0005000000237487257.\n",
      "3/3 [==============================] - 1s 281ms/step - loss: 0.1098 - accuracy: 0.9674 - val_loss: 1.4536 - val_accuracy: 0.8750\n",
      "Epoch 12/20\n",
      "3/3 [==============================] - 1s 275ms/step - loss: 0.0898 - accuracy: 0.9565 - val_loss: 1.2070 - val_accuracy: 0.9250\n",
      "Epoch 13/20\n",
      "3/3 [==============================] - 1s 277ms/step - loss: 0.0437 - accuracy: 0.9783 - val_loss: 1.2199 - val_accuracy: 0.9000\n",
      "Epoch 14/20\n",
      "3/3 [==============================] - ETA: 0s - loss: 0.0283 - accuracy: 1.0000\n",
      "Epoch 00014: ReduceLROnPlateau reducing learning rate to 0.0002500000118743628.\n",
      "3/3 [==============================] - 1s 277ms/step - loss: 0.0283 - accuracy: 1.0000 - val_loss: 1.2511 - val_accuracy: 0.9000\n",
      "Epoch 15/20\n",
      "3/3 [==============================] - 1s 300ms/step - loss: 0.0303 - accuracy: 0.9891 - val_loss: 1.1867 - val_accuracy: 0.9250\n",
      "Epoch 16/20\n",
      "3/3 [==============================] - 1s 285ms/step - loss: 0.0220 - accuracy: 0.9891 - val_loss: 1.0407 - val_accuracy: 0.9250\n",
      "Epoch 17/20\n",
      "3/3 [==============================] - ETA: 0s - loss: 0.0486 - accuracy: 0.9891\n",
      "Epoch 00017: ReduceLROnPlateau reducing learning rate to 0.0001250000059371814.\n",
      "3/3 [==============================] - 1s 278ms/step - loss: 0.0486 - accuracy: 0.9891 - val_loss: 0.9352 - val_accuracy: 0.9500\n",
      "Epoch 18/20\n",
      "3/3 [==============================] - 1s 283ms/step - loss: 0.0075 - accuracy: 1.0000 - val_loss: 0.9060 - val_accuracy: 0.9500\n",
      "Epoch 19/20\n",
      "3/3 [==============================] - 1s 271ms/step - loss: 0.0093 - accuracy: 1.0000 - val_loss: 0.8884 - val_accuracy: 0.9500\n",
      "Epoch 20/20\n",
      "3/3 [==============================] - ETA: 0s - loss: 0.0095 - accuracy: 1.0000\n",
      "Epoch 00020: ReduceLROnPlateau reducing learning rate to 6.25000029685907e-05.\n",
      "3/3 [==============================] - 1s 275ms/step - loss: 0.0095 - accuracy: 1.0000 - val_loss: 0.8754 - val_accuracy: 0.9500\n"
     ]
    },
    {
     "data": {
      "text/plain": [
       "<tensorflow.python.keras.callbacks.History at 0x22f396411f0>"
      ]
     },
     "execution_count": 59,
     "metadata": {},
     "output_type": "execute_result"
    }
   ],
   "source": [
    "model.fit(X_train, y_train_nn, epochs = 20, validation_split = .30, callbacks = [hist,lr,es])"
   ]
  },
  {
   "cell_type": "code",
   "execution_count": 60,
   "metadata": {},
   "outputs": [
    {
     "data": {
      "image/png": "[encoded data removed]",
      "text/plain": [
       "<Figure size 432x288 with 1 Axes>"
      ]
     },
     "metadata": {
      "needs_background": "light"
     },
     "output_type": "display_data"
    }
   ],
   "source": [
    "plt.plot(hist.history['accuracy'], color = 'red')\n",
    "plt.plot(hist.history['val_accuracy'], color = 'blue')\n",
    "plt.xlabel('Epochs')\n",
    "plt.ylabel('Accuracy')\n",
    "plt.show()"
   ]
  },
  {
   "cell_type": "code",
   "execution_count": null,
   "metadata": {},
   "outputs": [],
   "source": []
  }
 ],
 "metadata": {
  "kernelspec": {
   "display_name": "Python 3",
   "language": "python",
   "name": "python3"
  },
  "language_info": {
   "codemirror_mode": {
    "name": "ipython",
    "version": 3
   },
   "file_extension": ".py",
   "mimetype": "text/x-python",
   "name": "python",
   "nbconvert_exporter": "python",
   "pygments_lexer": "ipython3",
   "version": "3.8.3"
  },
  "pycharm": {
   "stem_cell": {
    "cell_type": "raw",
    "metadata": {
     "collapsed": false
    },
    "source": []
   }
  }
 },
 "nbformat": 4,
 "nbformat_minor": 1
}
