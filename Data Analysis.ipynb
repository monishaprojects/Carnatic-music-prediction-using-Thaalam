{
 "cells": [
  {
   "cell_type": "markdown",
   "metadata": {
    "collapsed": true,
    "pycharm": {
     "name": "#%% md\n"
    }
   },
   "source": [
    "# Carnatic music Rhythm classification"
   ]
  },
  {
   "cell_type": "code",
   "execution_count": 31,
   "metadata": {
    "pycharm": {
     "is_executing": false,
     "name": "#%%\n"
    }
   },
   "outputs": [],
   "source": [
    "import os\n",
    "import pandas as pd\n",
    "import numpy as np\n",
    "import matplotlib.pyplot as plt \n",
    "import sklearn\n",
    "from sklearn.preprocessing import StandardScaler\n",
    "from sklearn.metrics import accuracy_score\n",
    "\n",
    "from sklearn.model_selection import GridSearchCV\n",
    "from sklearn.model_selection import train_test_split\n"
   ]
  },
  {
   "cell_type": "code",
   "execution_count": 32,
   "metadata": {
    "pycharm": {
     "is_executing": false,
     "name": "#%%\n"
    }
   },
   "outputs": [
    {
     "data": {
      "text/plain": [
       "'C:\\\\Users\\\\MY BOOK\\\\Downloads\\\\Carnatic music Rhythm classification'"
      ]
     },
     "execution_count": 32,
     "metadata": {},
     "output_type": "execute_result"
    }
   ],
   "source": [
    "os.getcwd()\n"
   ]
  },
  {
   "cell_type": "code",
   "execution_count": 33,
   "metadata": {
    "pycharm": {
     "is_executing": false,
     "name": "#%%\n"
    }
   },
   "outputs": [
    {
     "data": {
      "text/html": [
       "<div>\n",
       "<style scoped>\n",
       "    .dataframe tbody tr th:only-of-type {\n",
       "        vertical-align: middle;\n",
       "    }\n",
       "\n",
       "    .dataframe tbody tr th {\n",
       "        vertical-align: top;\n",
       "    }\n",
       "\n",
       "    .dataframe thead th {\n",
       "        text-align: right;\n",
       "    }\n",
       "</style>\n",
       "<table border=\"1\" class=\"dataframe\">\n",
       "  <thead>\n",
       "    <tr style=\"text-align: right;\">\n",
       "      <th></th>\n",
       "      <th>UID</th>\n",
       "      <th>MBID of the recording</th>\n",
       "      <th>Name</th>\n",
       "      <th>Artist</th>\n",
       "      <th>Release+Volume</th>\n",
       "      <th>Lead Instrument Code</th>\n",
       "      <th>Taala</th>\n",
       "      <th>Raaga</th>\n",
       "      <th>Excerpt Start Time (s)</th>\n",
       "      <th>Excerpt End Time (s)</th>\n",
       "      <th>Length of the excerpt (s)</th>\n",
       "      <th>Length of the excerpt (min)</th>\n",
       "      <th>Number of annotated beats</th>\n",
       "      <th>Number of samas</th>\n",
       "    </tr>\n",
       "  </thead>\n",
       "  <tbody>\n",
       "    <tr>\n",
       "      <th>0</th>\n",
       "      <td>10001</td>\n",
       "      <td>6fb02d72-120f-415a-bf46-cd455a61165c</td>\n",
       "      <td>05_Thunga_Theera_Virajam</td>\n",
       "      <td>Abhishek Raghuram</td>\n",
       "      <td>Gems Of Carnatic Music - Live In Concert 2006</td>\n",
       "      <td>V</td>\n",
       "      <td>0</td>\n",
       "      <td>salaga bhairavi</td>\n",
       "      <td>26</td>\n",
       "      <td>175</td>\n",
       "      <td>149</td>\n",
       "      <td>2.48</td>\n",
       "      <td>193</td>\n",
       "      <td>25</td>\n",
       "    </tr>\n",
       "    <tr>\n",
       "      <th>1</th>\n",
       "      <td>10002</td>\n",
       "      <td>3ba1767b-f6c3-43dc-856f-1df72863650f</td>\n",
       "      <td>1_Salamelae_-_Varnam</td>\n",
       "      <td>Alathur Brothers</td>\n",
       "      <td>Alathur Brothers</td>\n",
       "      <td>V</td>\n",
       "      <td>0</td>\n",
       "      <td>nattakurinji</td>\n",
       "      <td>16</td>\n",
       "      <td>253</td>\n",
       "      <td>237</td>\n",
       "      <td>3.95</td>\n",
       "      <td>368</td>\n",
       "      <td>46</td>\n",
       "    </tr>\n",
       "    <tr>\n",
       "      <th>2</th>\n",
       "      <td>10003</td>\n",
       "      <td>5769ea2f-aed4-4169-9a20-bae4cb733b8e</td>\n",
       "      <td>1-04_Shri_Visvanatham</td>\n",
       "      <td>Amritha Murali</td>\n",
       "      <td>December Season 2010/CD 1</td>\n",
       "      <td>V</td>\n",
       "      <td>0</td>\n",
       "      <td>chaturdasha ragamalika</td>\n",
       "      <td>54</td>\n",
       "      <td>406</td>\n",
       "      <td>352</td>\n",
       "      <td>5.87</td>\n",
       "      <td>481</td>\n",
       "      <td>61</td>\n",
       "    </tr>\n",
       "    <tr>\n",
       "      <th>3</th>\n",
       "      <td>10004</td>\n",
       "      <td>40ecccaf-46d9-42a3-a709-e5202a1e22ec</td>\n",
       "      <td>1_Vathapi</td>\n",
       "      <td>Aneesh Vidyashankar</td>\n",
       "      <td>Pure Expressions</td>\n",
       "      <td>L</td>\n",
       "      <td>0</td>\n",
       "      <td>hamsadhwani</td>\n",
       "      <td>43</td>\n",
       "      <td>553</td>\n",
       "      <td>510</td>\n",
       "      <td>8.50</td>\n",
       "      <td>825</td>\n",
       "      <td>104</td>\n",
       "    </tr>\n",
       "    <tr>\n",
       "      <th>4</th>\n",
       "      <td>10005</td>\n",
       "      <td>de94ed93-7399-47e3-aa8e-d77b49d94bd3</td>\n",
       "      <td>2_Jagadanandakaraka</td>\n",
       "      <td>Aneesh Vidyashankar</td>\n",
       "      <td>Pure Expressions</td>\n",
       "      <td>L</td>\n",
       "      <td>0</td>\n",
       "      <td>nattai</td>\n",
       "      <td>3</td>\n",
       "      <td>517</td>\n",
       "      <td>514</td>\n",
       "      <td>8.57</td>\n",
       "      <td>705</td>\n",
       "      <td>89</td>\n",
       "    </tr>\n",
       "    <tr>\n",
       "      <th>...</th>\n",
       "      <td>...</td>\n",
       "      <td>...</td>\n",
       "      <td>...</td>\n",
       "      <td>...</td>\n",
       "      <td>...</td>\n",
       "      <td>...</td>\n",
       "      <td>...</td>\n",
       "      <td>...</td>\n",
       "      <td>...</td>\n",
       "      <td>...</td>\n",
       "      <td>...</td>\n",
       "      <td>...</td>\n",
       "      <td>...</td>\n",
       "      <td>...</td>\n",
       "    </tr>\n",
       "    <tr>\n",
       "      <th>171</th>\n",
       "      <td>13024</td>\n",
       "      <td>5d1e6f5e-a588-461a-afc4-4d42a68e0adb</td>\n",
       "      <td>10-01_Vaa_Velava</td>\n",
       "      <td>Sanjay Subrahmanyan</td>\n",
       "      <td>December Season 2010 - Concert 4/CD 2</td>\n",
       "      <td>V</td>\n",
       "      <td>3</td>\n",
       "      <td>tanarupi</td>\n",
       "      <td>61</td>\n",
       "      <td>316</td>\n",
       "      <td>255</td>\n",
       "      <td>4.25</td>\n",
       "      <td>397</td>\n",
       "      <td>133</td>\n",
       "    </tr>\n",
       "    <tr>\n",
       "      <th>172</th>\n",
       "      <td>13025</td>\n",
       "      <td>aa97b27e-4fd3-4130-865d-77a16ac59246</td>\n",
       "      <td>4_Amma_Ravamma</td>\n",
       "      <td>Sikkil Mala Chandrasekhar</td>\n",
       "      <td>Resonance Flute Concert</td>\n",
       "      <td>F</td>\n",
       "      <td>3</td>\n",
       "      <td>kalyani</td>\n",
       "      <td>815</td>\n",
       "      <td>1230</td>\n",
       "      <td>415</td>\n",
       "      <td>6.92</td>\n",
       "      <td>703</td>\n",
       "      <td>235</td>\n",
       "    </tr>\n",
       "    <tr>\n",
       "      <th>173</th>\n",
       "      <td>13026</td>\n",
       "      <td>bbee764d-7406-47ce-821a-a82030b89eca</td>\n",
       "      <td>2_Anupama_Gunambudhi</td>\n",
       "      <td>Sowmya</td>\n",
       "      <td>Bharat Sangeet Utsav</td>\n",
       "      <td>V</td>\n",
       "      <td>3</td>\n",
       "      <td>atana</td>\n",
       "      <td>69</td>\n",
       "      <td>198</td>\n",
       "      <td>129</td>\n",
       "      <td>2.15</td>\n",
       "      <td>223</td>\n",
       "      <td>75</td>\n",
       "    </tr>\n",
       "    <tr>\n",
       "      <th>174</th>\n",
       "      <td>13027</td>\n",
       "      <td>c5e32bf4-2cb1-47fc-a3fd-c855e0e2cd40</td>\n",
       "      <td>1-05_Paridanamiccite</td>\n",
       "      <td>Sumithra Vasudev</td>\n",
       "      <td>December Season 2010/CD 1</td>\n",
       "      <td>V</td>\n",
       "      <td>3</td>\n",
       "      <td>bilahari</td>\n",
       "      <td>3</td>\n",
       "      <td>268</td>\n",
       "      <td>265</td>\n",
       "      <td>4.42</td>\n",
       "      <td>487</td>\n",
       "      <td>163</td>\n",
       "    </tr>\n",
       "    <tr>\n",
       "      <th>175</th>\n",
       "      <td>13028</td>\n",
       "      <td>cc3405b1-cca6-40e3-bdf7-34ba49af6872</td>\n",
       "      <td>1-02_Purandara_Dasa</td>\n",
       "      <td>T. V. Sankaranarayanan</td>\n",
       "      <td>December Season 2000/CD 1</td>\n",
       "      <td>V</td>\n",
       "      <td>3</td>\n",
       "      <td>atana</td>\n",
       "      <td>2</td>\n",
       "      <td>200</td>\n",
       "      <td>198</td>\n",
       "      <td>3.30</td>\n",
       "      <td>325</td>\n",
       "      <td>109</td>\n",
       "    </tr>\n",
       "  </tbody>\n",
       "</table>\n",
       "<p>176 rows × 14 columns</p>\n",
       "</div>"
      ],
      "text/plain": [
       "       UID                 MBID of the recording                      Name  \\\n",
       "0    10001  6fb02d72-120f-415a-bf46-cd455a61165c  05_Thunga_Theera_Virajam   \n",
       "1    10002  3ba1767b-f6c3-43dc-856f-1df72863650f      1_Salamelae_-_Varnam   \n",
       "2    10003  5769ea2f-aed4-4169-9a20-bae4cb733b8e     1-04_Shri_Visvanatham   \n",
       "3    10004  40ecccaf-46d9-42a3-a709-e5202a1e22ec                 1_Vathapi   \n",
       "4    10005  de94ed93-7399-47e3-aa8e-d77b49d94bd3       2_Jagadanandakaraka   \n",
       "..     ...                                   ...                       ...   \n",
       "171  13024  5d1e6f5e-a588-461a-afc4-4d42a68e0adb          10-01_Vaa_Velava   \n",
       "172  13025  aa97b27e-4fd3-4130-865d-77a16ac59246            4_Amma_Ravamma   \n",
       "173  13026  bbee764d-7406-47ce-821a-a82030b89eca      2_Anupama_Gunambudhi   \n",
       "174  13027  c5e32bf4-2cb1-47fc-a3fd-c855e0e2cd40      1-05_Paridanamiccite   \n",
       "175  13028  cc3405b1-cca6-40e3-bdf7-34ba49af6872       1-02_Purandara_Dasa   \n",
       "\n",
       "                        Artist                                 Release+Volume  \\\n",
       "0            Abhishek Raghuram  Gems Of Carnatic Music - Live In Concert 2006   \n",
       "1             Alathur Brothers                               Alathur Brothers   \n",
       "2               Amritha Murali                      December Season 2010/CD 1   \n",
       "3          Aneesh Vidyashankar                               Pure Expressions   \n",
       "4          Aneesh Vidyashankar                               Pure Expressions   \n",
       "..                         ...                                            ...   \n",
       "171        Sanjay Subrahmanyan          December Season 2010 - Concert 4/CD 2   \n",
       "172  Sikkil Mala Chandrasekhar                        Resonance Flute Concert   \n",
       "173                     Sowmya                           Bharat Sangeet Utsav   \n",
       "174           Sumithra Vasudev                      December Season 2010/CD 1   \n",
       "175     T. V. Sankaranarayanan                      December Season 2000/CD 1   \n",
       "\n",
       "    Lead Instrument Code  Taala                   Raaga  \\\n",
       "0                      V      0         salaga bhairavi   \n",
       "1                      V      0            nattakurinji   \n",
       "2                      V      0  chaturdasha ragamalika   \n",
       "3                      L      0             hamsadhwani   \n",
       "4                      L      0                  nattai   \n",
       "..                   ...    ...                     ...   \n",
       "171                    V      3                tanarupi   \n",
       "172                    F      3                 kalyani   \n",
       "173                    V      3                   atana   \n",
       "174                    V      3                bilahari   \n",
       "175                    V      3                   atana   \n",
       "\n",
       "     Excerpt Start Time (s)  Excerpt End Time (s)  Length of the excerpt (s)  \\\n",
       "0                        26                   175                        149   \n",
       "1                        16                   253                        237   \n",
       "2                        54                   406                        352   \n",
       "3                        43                   553                        510   \n",
       "4                         3                   517                        514   \n",
       "..                      ...                   ...                        ...   \n",
       "171                      61                   316                        255   \n",
       "172                     815                  1230                        415   \n",
       "173                      69                   198                        129   \n",
       "174                       3                   268                        265   \n",
       "175                       2                   200                        198   \n",
       "\n",
       "     Length of the excerpt (min)  Number of annotated beats  Number of samas  \n",
       "0                           2.48                        193               25  \n",
       "1                           3.95                        368               46  \n",
       "2                           5.87                        481               61  \n",
       "3                           8.50                        825              104  \n",
       "4                           8.57                        705               89  \n",
       "..                           ...                        ...              ...  \n",
       "171                         4.25                        397              133  \n",
       "172                         6.92                        703              235  \n",
       "173                         2.15                        223               75  \n",
       "174                         4.42                        487              163  \n",
       "175                         3.30                        325              109  \n",
       "\n",
       "[176 rows x 14 columns]"
      ]
     },
     "execution_count": 33,
     "metadata": {},
     "output_type": "execute_result"
    }
   ],
   "source": [
    "df=pd.read_excel('CMRfullDataset.xlsx')\n",
    "\n",
    "df"
   ]
  },
  {
   "cell_type": "code",
   "execution_count": 34,
   "metadata": {},
   "outputs": [
    {
     "name": "stdout",
     "output_type": "stream",
     "text": [
      "(176, 13)\n",
      "(176,)\n"
     ]
    }
   ],
   "source": [
    "\n",
    "X_train=df.drop('Taala',axis=1).values\n",
    "y_train=df['Taala'].values\n",
    "print(X_train.shape)\n",
    "print(y_train.shape)"
   ]
  },
  {
   "cell_type": "code",
   "execution_count": 35,
   "metadata": {},
   "outputs": [
    {
     "name": "stdout",
     "output_type": "stream",
     "text": [
      "<class 'pandas.core.frame.DataFrame'>\n",
      "RangeIndex: 176 entries, 0 to 175\n",
      "Data columns (total 14 columns):\n",
      " #   Column                       Non-Null Count  Dtype  \n",
      "---  ------                       --------------  -----  \n",
      " 0   UID                          176 non-null    int64  \n",
      " 1   MBID of the recording        176 non-null    object \n",
      " 2   Name                         176 non-null    object \n",
      " 3   Artist                       176 non-null    object \n",
      " 4   Release+Volume               176 non-null    object \n",
      " 5   Lead Instrument Code         176 non-null    object \n",
      " 6   Taala                        176 non-null    int64  \n",
      " 7   Raaga                        176 non-null    object \n",
      " 8   Excerpt Start Time (s)       176 non-null    int64  \n",
      " 9   Excerpt End Time (s)         176 non-null    int64  \n",
      " 10  Length of the excerpt (s)    176 non-null    int64  \n",
      " 11  Length of the excerpt (min)  176 non-null    float64\n",
      " 12  Number of annotated beats    176 non-null    int64  \n",
      " 13  Number of samas              176 non-null    int64  \n",
      "dtypes: float64(1), int64(7), object(6)\n",
      "memory usage: 19.4+ KB\n"
     ]
    }
   ],
   "source": [
    "df.info()"
   ]
  },
  {
   "cell_type": "code",
   "execution_count": 36,
   "metadata": {},
   "outputs": [
    {
     "data": {
      "text/html": [
       "<div>\n",
       "<style scoped>\n",
       "    .dataframe tbody tr th:only-of-type {\n",
       "        vertical-align: middle;\n",
       "    }\n",
       "\n",
       "    .dataframe tbody tr th {\n",
       "        vertical-align: top;\n",
       "    }\n",
       "\n",
       "    .dataframe thead th {\n",
       "        text-align: right;\n",
       "    }\n",
       "</style>\n",
       "<table border=\"1\" class=\"dataframe\">\n",
       "  <thead>\n",
       "    <tr style=\"text-align: right;\">\n",
       "      <th></th>\n",
       "      <th>UID</th>\n",
       "      <th>Taala</th>\n",
       "      <th>Excerpt Start Time (s)</th>\n",
       "      <th>Excerpt End Time (s)</th>\n",
       "      <th>Length of the excerpt (s)</th>\n",
       "      <th>Length of the excerpt (min)</th>\n",
       "      <th>Number of annotated beats</th>\n",
       "      <th>Number of samas</th>\n",
       "    </tr>\n",
       "  </thead>\n",
       "  <tbody>\n",
       "    <tr>\n",
       "      <th>count</th>\n",
       "      <td>176.000000</td>\n",
       "      <td>176.000000</td>\n",
       "      <td>176.000000</td>\n",
       "      <td>176.000000</td>\n",
       "      <td>176.000000</td>\n",
       "      <td>176.000000</td>\n",
       "      <td>176.000000</td>\n",
       "      <td>176.000000</td>\n",
       "    </tr>\n",
       "    <tr>\n",
       "      <th>mean</th>\n",
       "      <td>11330.295455</td>\n",
       "      <td>1.306818</td>\n",
       "      <td>180.585227</td>\n",
       "      <td>520.465909</td>\n",
       "      <td>339.880682</td>\n",
       "      <td>5.664602</td>\n",
       "      <td>509.244318</td>\n",
       "      <td>128.670455</td>\n",
       "    </tr>\n",
       "    <tr>\n",
       "      <th>std</th>\n",
       "      <td>1048.418817</td>\n",
       "      <td>1.051344</td>\n",
       "      <td>288.602631</td>\n",
       "      <td>395.776054</td>\n",
       "      <td>169.009729</td>\n",
       "      <td>2.816584</td>\n",
       "      <td>250.371592</td>\n",
       "      <td>77.264699</td>\n",
       "    </tr>\n",
       "    <tr>\n",
       "      <th>min</th>\n",
       "      <td>10001.000000</td>\n",
       "      <td>0.000000</td>\n",
       "      <td>1.000000</td>\n",
       "      <td>89.000000</td>\n",
       "      <td>86.000000</td>\n",
       "      <td>1.430000</td>\n",
       "      <td>158.000000</td>\n",
       "      <td>20.000000</td>\n",
       "    </tr>\n",
       "    <tr>\n",
       "      <th>25%</th>\n",
       "      <td>10044.750000</td>\n",
       "      <td>0.000000</td>\n",
       "      <td>6.750000</td>\n",
       "      <td>256.750000</td>\n",
       "      <td>221.750000</td>\n",
       "      <td>3.695000</td>\n",
       "      <td>327.250000</td>\n",
       "      <td>75.000000</td>\n",
       "    </tr>\n",
       "    <tr>\n",
       "      <th>50%</th>\n",
       "      <td>11038.500000</td>\n",
       "      <td>1.000000</td>\n",
       "      <td>33.500000</td>\n",
       "      <td>382.500000</td>\n",
       "      <td>303.500000</td>\n",
       "      <td>5.055000</td>\n",
       "      <td>457.500000</td>\n",
       "      <td>112.500000</td>\n",
       "    </tr>\n",
       "    <tr>\n",
       "      <th>75%</th>\n",
       "      <td>12032.250000</td>\n",
       "      <td>2.000000</td>\n",
       "      <td>260.750000</td>\n",
       "      <td>631.250000</td>\n",
       "      <td>432.500000</td>\n",
       "      <td>7.210000</td>\n",
       "      <td>635.000000</td>\n",
       "      <td>168.250000</td>\n",
       "    </tr>\n",
       "    <tr>\n",
       "      <th>max</th>\n",
       "      <td>13028.000000</td>\n",
       "      <td>3.000000</td>\n",
       "      <td>1389.000000</td>\n",
       "      <td>2213.000000</td>\n",
       "      <td>974.000000</td>\n",
       "      <td>16.230000</td>\n",
       "      <td>1346.000000</td>\n",
       "      <td>449.000000</td>\n",
       "    </tr>\n",
       "  </tbody>\n",
       "</table>\n",
       "</div>"
      ],
      "text/plain": [
       "                UID       Taala  Excerpt Start Time (s)  Excerpt End Time (s)  \\\n",
       "count    176.000000  176.000000              176.000000            176.000000   \n",
       "mean   11330.295455    1.306818              180.585227            520.465909   \n",
       "std     1048.418817    1.051344              288.602631            395.776054   \n",
       "min    10001.000000    0.000000                1.000000             89.000000   \n",
       "25%    10044.750000    0.000000                6.750000            256.750000   \n",
       "50%    11038.500000    1.000000               33.500000            382.500000   \n",
       "75%    12032.250000    2.000000              260.750000            631.250000   \n",
       "max    13028.000000    3.000000             1389.000000           2213.000000   \n",
       "\n",
       "       Length of the excerpt (s)  Length of the excerpt (min)  \\\n",
       "count                 176.000000                   176.000000   \n",
       "mean                  339.880682                     5.664602   \n",
       "std                   169.009729                     2.816584   \n",
       "min                    86.000000                     1.430000   \n",
       "25%                   221.750000                     3.695000   \n",
       "50%                   303.500000                     5.055000   \n",
       "75%                   432.500000                     7.210000   \n",
       "max                   974.000000                    16.230000   \n",
       "\n",
       "       Number of annotated beats  Number of samas  \n",
       "count                 176.000000       176.000000  \n",
       "mean                  509.244318       128.670455  \n",
       "std                   250.371592        77.264699  \n",
       "min                   158.000000        20.000000  \n",
       "25%                   327.250000        75.000000  \n",
       "50%                   457.500000       112.500000  \n",
       "75%                   635.000000       168.250000  \n",
       "max                  1346.000000       449.000000  "
      ]
     },
     "execution_count": 36,
     "metadata": {},
     "output_type": "execute_result"
    }
   ],
   "source": [
    "pd.set_option('display.max_columns', None) # we need to see all the columns\n",
    "df.describe()"
   ]
  },
  {
   "cell_type": "code",
   "execution_count": 37,
   "metadata": {},
   "outputs": [],
   "source": [
    "# From both train and test data\n",
    "df_train = df.drop(['MBID of the recording', 'Name','Artist','Release+Volume','Lead Instrument Code','Raaga'], axis = 1)\n",
    "\n",
    "df_train = df_train.iloc[:,1:]\n"
   ]
  },
  {
   "cell_type": "code",
   "execution_count": 38,
   "metadata": {},
   "outputs": [
    {
     "data": {
      "text/plain": [
       "Taala\n",
       "0    50\n",
       "1    50\n",
       "2    48\n",
       "3    28\n",
       "dtype: int64"
      ]
     },
     "execution_count": 38,
     "metadata": {},
     "output_type": "execute_result"
    }
   ],
   "source": [
    "df_train.groupby('Taala').size()"
   ]
  },
  {
   "cell_type": "code",
   "execution_count": 39,
   "metadata": {},
   "outputs": [
    {
     "data": {
      "image/png": "[encoded data removed]",
      "text/plain": [
       "<Figure size 720x576 with 2 Axes>"
      ]
     },
     "metadata": {
      "needs_background": "light"
     },
     "output_type": "display_data"
    }
   ],
   "source": [
    "import seaborn as sns\n",
    "size = 10\n",
    "corrmat = df_train.iloc[:,:size].corr()\n",
    "f, ax = plt.subplots(figsize = (10,8))\n",
    "sns.heatmap(corrmat,vmax=0.8,square=True,annot=True, fmt='.1f');"
   ]
  },
  {
   "cell_type": "code",
   "execution_count": 40,
   "metadata": {},
   "outputs": [],
   "source": [
    "data = df_train.iloc[:,:size]\n",
    "data\n",
    "# Get name of the columns\n",
    "cols = data.columns\n",
    "\n",
    "# Calculate the pearson correlation coefficients for all combinations\n",
    "data_corr = data.corr()\n",
    "\n",
    "# Threshold ( only highly correlated ones matter)\n",
    "threshold = 0.5\n",
    "corr_list = []"
   ]
  },
  {
   "cell_type": "code",
   "execution_count": 41,
   "metadata": {},
   "outputs": [
    {
     "data": {
      "text/html": [
       "<div>\n",
       "<style scoped>\n",
       "    .dataframe tbody tr th:only-of-type {\n",
       "        vertical-align: middle;\n",
       "    }\n",
       "\n",
       "    .dataframe tbody tr th {\n",
       "        vertical-align: top;\n",
       "    }\n",
       "\n",
       "    .dataframe thead th {\n",
       "        text-align: right;\n",
       "    }\n",
       "</style>\n",
       "<table border=\"1\" class=\"dataframe\">\n",
       "  <thead>\n",
       "    <tr style=\"text-align: right;\">\n",
       "      <th></th>\n",
       "      <th>Taala</th>\n",
       "      <th>Excerpt Start Time (s)</th>\n",
       "      <th>Excerpt End Time (s)</th>\n",
       "      <th>Length of the excerpt (s)</th>\n",
       "      <th>Length of the excerpt (min)</th>\n",
       "      <th>Number of annotated beats</th>\n",
       "      <th>Number of samas</th>\n",
       "    </tr>\n",
       "  </thead>\n",
       "  <tbody>\n",
       "    <tr>\n",
       "      <th>0</th>\n",
       "      <td>0</td>\n",
       "      <td>26</td>\n",
       "      <td>175</td>\n",
       "      <td>149</td>\n",
       "      <td>2.48</td>\n",
       "      <td>193</td>\n",
       "      <td>25</td>\n",
       "    </tr>\n",
       "    <tr>\n",
       "      <th>1</th>\n",
       "      <td>0</td>\n",
       "      <td>16</td>\n",
       "      <td>253</td>\n",
       "      <td>237</td>\n",
       "      <td>3.95</td>\n",
       "      <td>368</td>\n",
       "      <td>46</td>\n",
       "    </tr>\n",
       "    <tr>\n",
       "      <th>2</th>\n",
       "      <td>0</td>\n",
       "      <td>54</td>\n",
       "      <td>406</td>\n",
       "      <td>352</td>\n",
       "      <td>5.87</td>\n",
       "      <td>481</td>\n",
       "      <td>61</td>\n",
       "    </tr>\n",
       "    <tr>\n",
       "      <th>3</th>\n",
       "      <td>0</td>\n",
       "      <td>43</td>\n",
       "      <td>553</td>\n",
       "      <td>510</td>\n",
       "      <td>8.50</td>\n",
       "      <td>825</td>\n",
       "      <td>104</td>\n",
       "    </tr>\n",
       "    <tr>\n",
       "      <th>4</th>\n",
       "      <td>0</td>\n",
       "      <td>3</td>\n",
       "      <td>517</td>\n",
       "      <td>514</td>\n",
       "      <td>8.57</td>\n",
       "      <td>705</td>\n",
       "      <td>89</td>\n",
       "    </tr>\n",
       "    <tr>\n",
       "      <th>...</th>\n",
       "      <td>...</td>\n",
       "      <td>...</td>\n",
       "      <td>...</td>\n",
       "      <td>...</td>\n",
       "      <td>...</td>\n",
       "      <td>...</td>\n",
       "      <td>...</td>\n",
       "    </tr>\n",
       "    <tr>\n",
       "      <th>171</th>\n",
       "      <td>3</td>\n",
       "      <td>61</td>\n",
       "      <td>316</td>\n",
       "      <td>255</td>\n",
       "      <td>4.25</td>\n",
       "      <td>397</td>\n",
       "      <td>133</td>\n",
       "    </tr>\n",
       "    <tr>\n",
       "      <th>172</th>\n",
       "      <td>3</td>\n",
       "      <td>815</td>\n",
       "      <td>1230</td>\n",
       "      <td>415</td>\n",
       "      <td>6.92</td>\n",
       "      <td>703</td>\n",
       "      <td>235</td>\n",
       "    </tr>\n",
       "    <tr>\n",
       "      <th>173</th>\n",
       "      <td>3</td>\n",
       "      <td>69</td>\n",
       "      <td>198</td>\n",
       "      <td>129</td>\n",
       "      <td>2.15</td>\n",
       "      <td>223</td>\n",
       "      <td>75</td>\n",
       "    </tr>\n",
       "    <tr>\n",
       "      <th>174</th>\n",
       "      <td>3</td>\n",
       "      <td>3</td>\n",
       "      <td>268</td>\n",
       "      <td>265</td>\n",
       "      <td>4.42</td>\n",
       "      <td>487</td>\n",
       "      <td>163</td>\n",
       "    </tr>\n",
       "    <tr>\n",
       "      <th>175</th>\n",
       "      <td>3</td>\n",
       "      <td>2</td>\n",
       "      <td>200</td>\n",
       "      <td>198</td>\n",
       "      <td>3.30</td>\n",
       "      <td>325</td>\n",
       "      <td>109</td>\n",
       "    </tr>\n",
       "  </tbody>\n",
       "</table>\n",
       "<p>176 rows × 7 columns</p>\n",
       "</div>"
      ],
      "text/plain": [
       "     Taala  Excerpt Start Time (s)  Excerpt End Time (s)  \\\n",
       "0        0                      26                   175   \n",
       "1        0                      16                   253   \n",
       "2        0                      54                   406   \n",
       "3        0                      43                   553   \n",
       "4        0                       3                   517   \n",
       "..     ...                     ...                   ...   \n",
       "171      3                      61                   316   \n",
       "172      3                     815                  1230   \n",
       "173      3                      69                   198   \n",
       "174      3                       3                   268   \n",
       "175      3                       2                   200   \n",
       "\n",
       "     Length of the excerpt (s)  Length of the excerpt (min)  \\\n",
       "0                          149                         2.48   \n",
       "1                          237                         3.95   \n",
       "2                          352                         5.87   \n",
       "3                          510                         8.50   \n",
       "4                          514                         8.57   \n",
       "..                         ...                          ...   \n",
       "171                        255                         4.25   \n",
       "172                        415                         6.92   \n",
       "173                        129                         2.15   \n",
       "174                        265                         4.42   \n",
       "175                        198                         3.30   \n",
       "\n",
       "     Number of annotated beats  Number of samas  \n",
       "0                          193               25  \n",
       "1                          368               46  \n",
       "2                          481               61  \n",
       "3                          825              104  \n",
       "4                          705               89  \n",
       "..                         ...              ...  \n",
       "171                        397              133  \n",
       "172                        703              235  \n",
       "173                        223               75  \n",
       "174                        487              163  \n",
       "175                        325              109  \n",
       "\n",
       "[176 rows x 7 columns]"
      ]
     },
     "execution_count": 41,
     "metadata": {},
     "output_type": "execute_result"
    }
   ],
   "source": [
    "data"
   ]
  },
  {
   "cell_type": "code",
   "execution_count": 42,
   "metadata": {},
   "outputs": [
    {
     "data": {
      "text/html": [
       "<div>\n",
       "<style scoped>\n",
       "    .dataframe tbody tr th:only-of-type {\n",
       "        vertical-align: middle;\n",
       "    }\n",
       "\n",
       "    .dataframe tbody tr th {\n",
       "        vertical-align: top;\n",
       "    }\n",
       "\n",
       "    .dataframe thead th {\n",
       "        text-align: right;\n",
       "    }\n",
       "</style>\n",
       "<table border=\"1\" class=\"dataframe\">\n",
       "  <thead>\n",
       "    <tr style=\"text-align: right;\">\n",
       "      <th></th>\n",
       "      <th>Taala</th>\n",
       "      <th>Excerpt Start Time (s)</th>\n",
       "      <th>Excerpt End Time (s)</th>\n",
       "      <th>Length of the excerpt (s)</th>\n",
       "      <th>Length of the excerpt (min)</th>\n",
       "      <th>Number of annotated beats</th>\n",
       "      <th>Number of samas</th>\n",
       "    </tr>\n",
       "  </thead>\n",
       "  <tbody>\n",
       "    <tr>\n",
       "      <th>Taala</th>\n",
       "      <td>1.000000</td>\n",
       "      <td>0.098202</td>\n",
       "      <td>0.115026</td>\n",
       "      <td>0.101670</td>\n",
       "      <td>0.101660</td>\n",
       "      <td>0.151630</td>\n",
       "      <td>0.474043</td>\n",
       "    </tr>\n",
       "    <tr>\n",
       "      <th>Excerpt Start Time (s)</th>\n",
       "      <td>0.098202</td>\n",
       "      <td>1.000000</td>\n",
       "      <td>0.925241</td>\n",
       "      <td>0.459061</td>\n",
       "      <td>0.459085</td>\n",
       "      <td>0.467217</td>\n",
       "      <td>0.470812</td>\n",
       "    </tr>\n",
       "    <tr>\n",
       "      <th>Excerpt End Time (s)</th>\n",
       "      <td>0.115026</td>\n",
       "      <td>0.925241</td>\n",
       "      <td>1.000000</td>\n",
       "      <td>0.761784</td>\n",
       "      <td>0.761802</td>\n",
       "      <td>0.750920</td>\n",
       "      <td>0.685998</td>\n",
       "    </tr>\n",
       "    <tr>\n",
       "      <th>Length of the excerpt (s)</th>\n",
       "      <td>0.101670</td>\n",
       "      <td>0.459061</td>\n",
       "      <td>0.761784</td>\n",
       "      <td>1.000000</td>\n",
       "      <td>1.000000</td>\n",
       "      <td>0.960631</td>\n",
       "      <td>0.802461</td>\n",
       "    </tr>\n",
       "    <tr>\n",
       "      <th>Length of the excerpt (min)</th>\n",
       "      <td>0.101660</td>\n",
       "      <td>0.459085</td>\n",
       "      <td>0.761802</td>\n",
       "      <td>1.000000</td>\n",
       "      <td>1.000000</td>\n",
       "      <td>0.960621</td>\n",
       "      <td>0.802477</td>\n",
       "    </tr>\n",
       "    <tr>\n",
       "      <th>Number of annotated beats</th>\n",
       "      <td>0.151630</td>\n",
       "      <td>0.467217</td>\n",
       "      <td>0.750920</td>\n",
       "      <td>0.960631</td>\n",
       "      <td>0.960621</td>\n",
       "      <td>1.000000</td>\n",
       "      <td>0.820652</td>\n",
       "    </tr>\n",
       "    <tr>\n",
       "      <th>Number of samas</th>\n",
       "      <td>0.474043</td>\n",
       "      <td>0.470812</td>\n",
       "      <td>0.685998</td>\n",
       "      <td>0.802461</td>\n",
       "      <td>0.802477</td>\n",
       "      <td>0.820652</td>\n",
       "      <td>1.000000</td>\n",
       "    </tr>\n",
       "  </tbody>\n",
       "</table>\n",
       "</div>"
      ],
      "text/plain": [
       "                                Taala  Excerpt Start Time (s)  \\\n",
       "Taala                        1.000000                0.098202   \n",
       "Excerpt Start Time (s)       0.098202                1.000000   \n",
       "Excerpt End Time (s)         0.115026                0.925241   \n",
       "Length of the excerpt (s)    0.101670                0.459061   \n",
       "Length of the excerpt (min)  0.101660                0.459085   \n",
       "Number of annotated beats    0.151630                0.467217   \n",
       "Number of samas              0.474043                0.470812   \n",
       "\n",
       "                             Excerpt End Time (s)  Length of the excerpt (s)  \\\n",
       "Taala                                    0.115026                   0.101670   \n",
       "Excerpt Start Time (s)                   0.925241                   0.459061   \n",
       "Excerpt End Time (s)                     1.000000                   0.761784   \n",
       "Length of the excerpt (s)                0.761784                   1.000000   \n",
       "Length of the excerpt (min)              0.761802                   1.000000   \n",
       "Number of annotated beats                0.750920                   0.960631   \n",
       "Number of samas                          0.685998                   0.802461   \n",
       "\n",
       "                             Length of the excerpt (min)  \\\n",
       "Taala                                           0.101660   \n",
       "Excerpt Start Time (s)                          0.459085   \n",
       "Excerpt End Time (s)                            0.761802   \n",
       "Length of the excerpt (s)                       1.000000   \n",
       "Length of the excerpt (min)                     1.000000   \n",
       "Number of annotated beats                       0.960621   \n",
       "Number of samas                                 0.802477   \n",
       "\n",
       "                             Number of annotated beats  Number of samas  \n",
       "Taala                                         0.151630         0.474043  \n",
       "Excerpt Start Time (s)                        0.467217         0.470812  \n",
       "Excerpt End Time (s)                          0.750920         0.685998  \n",
       "Length of the excerpt (s)                     0.960631         0.802461  \n",
       "Length of the excerpt (min)                   0.960621         0.802477  \n",
       "Number of annotated beats                     1.000000         0.820652  \n",
       "Number of samas                               0.820652         1.000000  "
      ]
     },
     "execution_count": 42,
     "metadata": {},
     "output_type": "execute_result"
    }
   ],
   "source": [
    "data_corr"
   ]
  },
  {
   "cell_type": "code",
   "execution_count": 43,
   "metadata": {},
   "outputs": [
    {
     "data": {
      "image/png": "[encoded data removed]",
      "text/plain": [
       "<Figure size 432x288 with 1 Axes>"
      ]
     },
     "metadata": {
      "needs_background": "light"
     },
     "output_type": "display_data"
    },
    {
     "data": {
      "image/png": "[encoded data removed]",
      "text/plain": [
       "<Figure size 432x288 with 1 Axes>"
      ]
     },
     "metadata": {
      "needs_background": "light"
     },
     "output_type": "display_data"
    },
    {
     "data": {
      "image/png": "[encoded data removed]",
      "text/plain": [
       "<Figure size 432x288 with 1 Axes>"
      ]
     },
     "metadata": {
      "needs_background": "light"
     },
     "output_type": "display_data"
    },
    {
     "data": {
      "image/png": "[encoded data removed]",
      "text/plain": [
       "<Figure size 432x288 with 1 Axes>"
      ]
     },
     "metadata": {
      "needs_background": "light"
     },
     "output_type": "display_data"
    },
    {
     "data": {
      "image/png": "[encoded data removed]",
      "text/plain": [
       "<Figure size 432x288 with 1 Axes>"
      ]
     },
     "metadata": {
      "needs_background": "light"
     },
     "output_type": "display_data"
    },
    {
     "data": {
      "image/png": "[encoded data removed]",
      "text/plain": [
       "<Figure size 432x288 with 1 Axes>"
      ]
     },
     "metadata": {
      "needs_background": "light"
     },
     "output_type": "display_data"
    }
   ],
   "source": [
    "\n",
    "# A violin plot is a hybrid of a box plot and a kernel density plot, which shows peaks in the data.\n",
    "cols = df_train.columns\n",
    "size = len(cols) - 1 # We don't need the target attribute\n",
    "# x-axis has target attributes to distinguish between classes\n",
    "x = cols[size]\n",
    "y = cols[0:size]\n",
    "\n",
    "for i in range(0, size):\n",
    "    sns.violinplot(data=df_train, x=x, y=y[i])\n",
    "    plt.show()"
   ]
  },
  {
   "cell_type": "code",
   "execution_count": 44,
   "metadata": {},
   "outputs": [
    {
     "data": {
      "text/plain": [
       "Taala                          0.193339\n",
       "Excerpt Start Time (s)         2.211848\n",
       "Excerpt End Time (s)           1.803326\n",
       "Length of the excerpt (s)      1.255063\n",
       "Length of the excerpt (min)    1.254662\n",
       "Number of annotated beats      1.139707\n",
       "Number of samas                1.225992\n",
       "dtype: float64"
      ]
     },
     "execution_count": 44,
     "metadata": {},
     "output_type": "execute_result"
    }
   ],
   "source": [
    "# Checking for data transformation (take only non-categorical values)\n",
    "df_train.iloc[:,:10].skew()"
   ]
  },
  {
   "cell_type": "code",
   "execution_count": 51,
   "metadata": {},
   "outputs": [
    {
     "name": "stderr",
     "output_type": "stream",
     "text": [
      "C:\\ProgramData\\Anaconda3\\lib\\site-packages\\seaborn\\regression.py:573: UserWarning: The `size` parameter has been renamed to `height`; please update your code.\n",
      "  warnings.warn(msg, UserWarning)\n"
     ]
    },
    {
     "data": {
      "text/plain": [
       "<seaborn.axisgrid.FacetGrid at 0x180c65911c0>"
      ]
     },
     "execution_count": 51,
     "metadata": {},
     "output_type": "execute_result"
    },
    {
     "data": {
      "image/png": "[encoded data removed]",
      "text/plain": [
       "<Figure size 474.375x432 with 1 Axes>"
      ]
     },
     "metadata": {
      "needs_background": "light"
     },
     "output_type": "display_data"
    }
   ],
   "source": [
    " sns.lmplot('Taala', 'Number of samas', data=df_train, hue='Taala', palette='coolwarm', size=6, aspect=1, fit_reg=False)"
   ]
  },
  {
   "cell_type": "code",
   "execution_count": null,
   "metadata": {},
   "outputs": [],
   "source": []
  }
 ],
 "metadata": {
  "kernelspec": {
   "display_name": "Python 3",
   "language": "python",
   "name": "python3"
  },
  "language_info": {
   "codemirror_mode": {
    "name": "ipython",
    "version": 3
   },
   "file_extension": ".py",
   "mimetype": "text/x-python",
   "name": "python",
   "nbconvert_exporter": "python",
   "pygments_lexer": "ipython3",
   "version": "3.8.3"
  },
  "pycharm": {
   "stem_cell": {
    "cell_type": "raw",
    "metadata": {
     "collapsed": false
    },
    "source": []
   }
  }
 },
 "nbformat": 4,
 "nbformat_minor": 1
}
